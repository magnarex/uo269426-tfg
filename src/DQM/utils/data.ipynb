{
 "cells": [
  {
   "cell_type": "markdown",
   "metadata": {},
   "source": [
    "# Paquete de utilidades para los datos"
   ]
  },
  {
   "cell_type": "markdown",
   "metadata": {},
   "source": [
    "## Dependencias"
   ]
  },
  {
   "cell_type": "code",
   "execution_count": 10,
   "metadata": {},
   "outputs": [],
   "source": [
    "from pathlib import Path\n",
    "import os"
   ]
  },
  {
   "cell_type": "markdown",
   "metadata": {},
   "source": [
    "## Código"
   ]
  },
  {
   "cell_type": "markdown",
   "metadata": {},
   "source": [
    "### Nombre de los archivos"
   ]
  },
  {
   "cell_type": "code",
   "execution_count": 11,
   "metadata": {},
   "outputs": [],
   "source": [
    "names = {\n",
    "    \"chi2\": {\n",
    "        \"A\": \"GlbMuon_Glb_chi2OverDf_MuonCert_Labeled_UL2018A_Reduced\",\n",
    "        \"B\": \"GlbMuon_Glb_chi2OverDf_MuonCert_Labeled_UL2018B_Reduced\",\n",
    "        \"C\": \"GlbMuon_Glb_chi2OverDf_MuonCert_Labeled_UL2018C_Reduced\",\n",
    "        \"D\": \"GlbMuon_Glb_chi2OverDf_MuonCert_Labeled_UL2018D_Reduced\"\n",
    "    },\n",
    "    \"eta\": {\n",
    "        \"A\": \"GlbMuon_Glb_eta_MuonCert_Labeled_UL2018A_Reduced\",\n",
    "        \"B\": \"GlbMuon_Glb_eta_MuonCert_Labeled_UL2018B_Reduced\",\n",
    "        \"C\": \"GlbMuon_Glb_eta_MuonCert_Labeled_UL2018C_Reduced\",\n",
    "        \"D\": \"GlbMuon_Glb_eta_MuonCert_Labeled_UL2018D_Reduced\"\n",
    "    },\n",
    "    \"phi\": {\n",
    "        \"A\": \"GlbMuon_Glb_phi_MuonCert_Labeled_UL2018A_Reduced\",\n",
    "        \"B\": \"GlbMuon_Glb_phi_MuonCert_Labeled_UL2018B_Reduced\",\n",
    "        \"C\": \"GlbMuon_Glb_phi_MuonCert_Labeled_UL2018C_Reduced\",\n",
    "        \"D\": \"GlbMuon_Glb_phi_MuonCert_Labeled_UL2018D_Reduced\"\n",
    "    },\n",
    "    \"pt\": {\n",
    "        \"A\": \"GlbMuon_Glb_pt_MuonCert_Labeled_UL2018A_Reduced\",\n",
    "        \"B\": \"GlbMuon_Glb_pt_MuonCert_Labeled_UL2018B_Reduced\",\n",
    "        \"C\": \"GlbMuon_Glb_pt_MuonCert_Labeled_UL2018C_Reduced\",\n",
    "        \"D\": \"GlbMuon_Glb_pt_MuonCert_Labeled_UL2018D_Reduced\"\n",
    "    }\n",
    "}"
   ]
  },
  {
   "cell_type": "code",
   "execution_count": null,
   "metadata": {},
   "outputs": [],
   "source": [
    "def read_file(per,obvs):\n",
    "    #hacer primero función para encontrar el directorio\n",
    "    #padre como está hecho en test_metrics.py"
   ]
  },
  {
   "cell_type": "markdown",
   "metadata": {},
   "source": [
    "## Exportar a .py"
   ]
  },
  {
   "cell_type": "code",
   "execution_count": 13,
   "metadata": {},
   "outputs": [
    {
     "name": "stderr",
     "output_type": "stream",
     "text": [
      "[NbConvertApp] Converting notebook data_utils.ipynb to python\n",
      "[NbConvertApp] Writing 1572 bytes to data_utils.py\n"
     ]
    }
   ],
   "source": [
    "if __name__ == '__main__':\n",
    "    !jupyter nbconvert --to python data.ipynb"
   ]
  }
 ],
 "metadata": {
  "interpreter": {
   "hash": "42adc7b996e598d61f7e7d748077879840ba5f4b1aced6afab64f3aa80ef21e8"
  },
  "kernelspec": {
   "display_name": "Python 3.8.13 ('DQM-DC_NMF')",
   "language": "python",
   "name": "python3"
  },
  "language_info": {
   "codemirror_mode": {
    "name": "ipython",
    "version": 3
   },
   "file_extension": ".py",
   "mimetype": "text/x-python",
   "name": "python",
   "nbconvert_exporter": "python",
   "pygments_lexer": "ipython3",
   "version": "3.8.13"
  },
  "orig_nbformat": 4
 },
 "nbformat": 4,
 "nbformat_minor": 2
}
