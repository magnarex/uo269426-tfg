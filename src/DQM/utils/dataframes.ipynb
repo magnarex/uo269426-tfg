{
 "cells": [
  {
   "cell_type": "markdown",
   "metadata": {},
   "source": [
    "# Paquete de utilidades para los DataFrames de Pandas"
   ]
  },
  {
   "cell_type": "markdown",
   "metadata": {},
   "source": [
    "## Dependencias"
   ]
  },
  {
   "cell_type": "code",
   "execution_count": 53,
   "metadata": {},
   "outputs": [],
   "source": [
    "import pandas as pd\n",
    "import numpy as np\n",
    "from IPython.display import HTML, display\n"
   ]
  },
  {
   "cell_type": "markdown",
   "metadata": {},
   "source": [
    "## Código"
   ]
  },
  {
   "cell_type": "markdown",
   "metadata": {},
   "source": [
    "### Variables de utilidad"
   ]
  },
  {
   "cell_type": "code",
   "execution_count": null,
   "metadata": {},
   "outputs": [],
   "source": []
  },
  {
   "cell_type": "markdown",
   "metadata": {},
   "source": [
    "### Funciones estéticas"
   ]
  },
  {
   "cell_type": "code",
   "execution_count": 54,
   "metadata": {},
   "outputs": [],
   "source": [
    "def df_pprint(df,head=3, hide_index=False):\n",
    "    df1 = df.head(3).style.set_table_styles([dict(selector='th', props=[('text-align', 'center')])])\n",
    "    df1.set_properties(**{'text-align': 'center', 'float_format':'{:,.0f}'.format})\n",
    "    if hide_index: df1.hide_index()\n",
    "    display(HTML(df1.to_html()))"
   ]
  },
  {
   "cell_type": "code",
   "execution_count": 55,
   "metadata": {},
   "outputs": [],
   "source": [
    "def pretty_table(df,head=3, hide_index=False):\n",
    "    df1 = df.head(3).style.set_table_styles([dict(selector='th', props=[('text-align', 'center')])])\n",
    "    df1.set_properties(**{'text-align': 'center', 'float_format':'{:,.0f}'.format})\n",
    "    if hide_index: df1.hide_index()\n",
    "    display(HTML(df1.style.to_html()))"
   ]
  },
  {
   "cell_type": "code",
   "execution_count": 56,
   "metadata": {},
   "outputs": [],
   "source": [
    "def pretty_table(df,head=3, hide_index=False):\n",
    "    if hide_index: df.hide_index()\n",
    "    from pandas.io.formats.style import Styler\n",
    "    data_props = 'color: white;; text-align:center;font-size:12pt'\n",
    "    index_props = 'color:white;text-align:center;font-size:14pt'\n",
    "    my_css = {\n",
    "        \"row_heading\": \"\",\n",
    "        \"col_heading\": \"\",\n",
    "        \"index_name\": \"\",\n",
    "        \"col\": \"c\",\n",
    "        \"row\": \"r\",\n",
    "        \"col_trim\": \"\",\n",
    "        \"row_trim\": \"\",\n",
    "        \"level\": \"l\",\n",
    "        \"data\": \"\",\n",
    "        \"blank\": \"\",\n",
    "    }\n",
    "    html = Styler(df, uuid_len=0, cell_ids=False)\n",
    "    html.set_table_styles([{'selector': 'td', 'props': data_props},\n",
    "                           {'selector': '.l0', 'props': index_props}],\n",
    "                           css_class_names=my_css)\n",
    "    display(HTML(html.to_html()))"
   ]
  },
  {
   "cell_type": "markdown",
   "metadata": {},
   "source": [
    "### Funciones útiles"
   ]
  },
  {
   "cell_type": "code",
   "execution_count": 57,
   "metadata": {},
   "outputs": [],
   "source": [
    "def str2arr(string):\n",
    "    return np.array(string[1:-1].split(',')).astype(np.float64)"
   ]
  },
  {
   "cell_type": "code",
   "execution_count": 58,
   "metadata": {},
   "outputs": [],
   "source": [
    "def hist2arr(df):\n",
    "    pass"
   ]
  },
  {
   "cell_type": "code",
   "execution_count": 59,
   "metadata": {},
   "outputs": [],
   "source": [
    "def read_file(obvs,period='C'):\n",
    "    pass\n",
    "    "
   ]
  },
  {
   "cell_type": "markdown",
   "metadata": {},
   "source": [
    "## Exportar a .py"
   ]
  },
  {
   "cell_type": "code",
   "execution_count": 60,
   "metadata": {},
   "outputs": [
    {
     "name": "stderr",
     "output_type": "stream",
     "text": [
      "[NbConvertApp] Converting notebook df_utils.ipynb to python\n",
      "[NbConvertApp] Writing 2078 bytes to df_utils.py\n"
     ]
    }
   ],
   "source": [
    "if __name__ == '__main__':\n",
    "    !jupyter nbconvert --to python dataframes.ipynb"
   ]
  }
 ],
 "metadata": {
  "interpreter": {
   "hash": "07efdcd4b820c98a756949507a4d29d7862823915ec7477944641bea022f4f62"
  },
  "kernelspec": {
   "display_name": "Python 3.8.8 64-bit ('base': conda)",
   "language": "python",
   "name": "python3"
  },
  "language_info": {
   "codemirror_mode": {
    "name": "ipython",
    "version": 3
   },
   "file_extension": ".py",
   "mimetype": "text/x-python",
   "name": "python",
   "nbconvert_exporter": "python",
   "pygments_lexer": "ipython3",
   "version": "3.8.12"
  },
  "orig_nbformat": 4
 },
 "nbformat": 4,
 "nbformat_minor": 2
}
