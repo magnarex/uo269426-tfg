{
 "cells": [
  {
   "cell_type": "markdown",
   "metadata": {},
   "source": [
    "# Paquete de utilidades para los DataFrames de Pandas"
   ]
  },
  {
   "cell_type": "markdown",
   "metadata": {},
   "source": [
    "## Dependencias"
   ]
  },
  {
   "cell_type": "code",
   "execution_count": 20,
   "metadata": {},
   "outputs": [],
   "source": [
    "import matplotlib.pyplot as plt\n",
    "import numpy as np\n",
    "import os"
   ]
  },
  {
   "cell_type": "markdown",
   "metadata": {},
   "source": [
    "## Código"
   ]
  },
  {
   "cell_type": "markdown",
   "metadata": {},
   "source": [
    "### Funciones de representación"
   ]
  },
  {
   "cell_type": "code",
   "execution_count": 21,
   "metadata": {},
   "outputs": [],
   "source": [
    "# def plot_arr2hist(arr):\n",
    "#     pass\n",
    "\n",
    "\n",
    "def plot_df2hist(df,row,path='graphs/test/',name='',save=True):\n",
    "    histo = df.at[row,'histo']/df.at[row,'entries']\n",
    "    bins=np.linspace(df.at[row,'Xmin'],df.at[row,'Xmax'],df.at[row,'Xbins'])\n",
    "\n",
    "    fig, ax = plt.subplots(1,1)\n",
    "\n",
    "    _ = ax.step(bins,histo,where='mid',linewidth=0.3)\n",
    "    if save:\n",
    "        try:\n",
    "            plt.savefig(path+'/'+str(row).zfill(3)+'.png')\n",
    "        except FileNotFoundError:\n",
    "            os.makedirs(path)\n",
    "            plt.savefig(path+'/'+str(row).zfill(3)+'.png')\n",
    "        plt.close()"
   ]
  },
  {
   "cell_type": "markdown",
   "metadata": {},
   "source": [
    "## Exportar a .py"
   ]
  },
  {
   "cell_type": "code",
   "execution_count": 22,
   "metadata": {},
   "outputs": [
    {
     "name": "stderr",
     "output_type": "stream",
     "text": [
      "[NbConvertApp] Converting notebook plot_utils.ipynb to python\n",
      "[NbConvertApp] Writing 936 bytes to plot_utils.py\n"
     ]
    }
   ],
   "source": [
    "if __name__ == '__main__':\n",
    "    !jupyter nbconvert --to python plots.ipynb"
   ]
  }
 ],
 "metadata": {
  "interpreter": {
   "hash": "42adc7b996e598d61f7e7d748077879840ba5f4b1aced6afab64f3aa80ef21e8"
  },
  "kernelspec": {
   "display_name": "Python 3.8.13 ('DQM-DC_NMF')",
   "language": "python",
   "name": "python3"
  },
  "language_info": {
   "codemirror_mode": {
    "name": "ipython",
    "version": 3
   },
   "file_extension": ".py",
   "mimetype": "text/x-python",
   "name": "python",
   "nbconvert_exporter": "python",
   "pygments_lexer": "ipython3",
   "version": "3.8.13"
  },
  "orig_nbformat": 4
 },
 "nbformat": 4,
 "nbformat_minor": 2
}
