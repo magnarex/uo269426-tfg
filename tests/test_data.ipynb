{
 "cells": [
  {
   "cell_type": "markdown",
   "metadata": {},
   "source": [
    "# Exploración de los datos"
   ]
  },
  {
   "cell_type": "markdown",
   "metadata": {},
   "source": [
    "## Paquetes"
   ]
  },
  {
   "cell_type": "code",
   "execution_count": 1,
   "metadata": {},
   "outputs": [
    {
     "name": "stdout",
     "output_type": "stream",
     "text": [
      "[{3948973402.py:49} INFO - \n",
      "\n",
      "\n",
      "Run at 11-39-41\n"
     ]
    }
   ],
   "source": [
    "import numpy as np\n",
    "import re\n",
    "import pandas as pd\n",
    "\n",
    "import os\n",
    "import sys\n",
    "import inspect\n",
    "\n",
    "parentdir = r'F:\\Clase\\Universidad\\04 - Cuarto\\TFG\\DQM-DC NMF'\n",
    "\n",
    "sys.path.append(parentdir)\n",
    "\n",
    "from DQM.utils.df_utils import *\n",
    "from DQM.utils.plot_utils import *\n",
    "\n",
    "pd.set_option('colheader_justify', 'center')\n",
    "\n",
    "import functools\n",
    "\n",
    "import matplotlib.pyplot as plt\n",
    "# %matplotlib qt\n",
    "plt.rcParams['figure.dpi'] = 300\n",
    "plt.rcParams[\"figure.figsize\"] = (3,2)\n",
    "plt.rcParams.update({'font.size': 6})\n",
    "\n",
    "import datetime\n",
    "import logging\n",
    "timestamp = datetime.datetime.utcnow().strftime('%Y%m%d')\n",
    "filename=f'{parentdir}/tmp/read_data_{timestamp}.log'\n",
    "formatter = logging.Formatter('[%(asctime)s] %(name)s {%(filename)s:%(lineno)d} %(levelname)s - %(message)s')\n",
    "\n",
    "file_handler = logging.FileHandler(filename=filename, mode='a+')\n",
    "file_handler.setLevel(logging.DEBUG)\n",
    "file_handler.setFormatter(formatter)\n",
    "\n",
    "stream_handler = logging.StreamHandler(sys.stdout)\n",
    "stream_handler.setLevel(logging.INFO)\n",
    "\n",
    "# The handlers have to be at a root level since they are the final output\n",
    "logging.basicConfig(\n",
    "    level=logging.DEBUG, \n",
    "    format='[{%(filename)s:%(lineno)d} %(levelname)s - %(message)s',\n",
    "    handlers=[\n",
    "        file_handler,\n",
    "        stream_handler\n",
    "    ]\n",
    ")\n",
    "\n",
    "logging.info(f'\\n\\n\\nRun at {datetime.datetime.utcnow().strftime(\"%H-%M-%S\")}')"
   ]
  },
  {
   "cell_type": "markdown",
   "metadata": {},
   "source": [
    "## Código"
   ]
  },
  {
   "cell_type": "markdown",
   "metadata": {},
   "source": [
    "### Tabla de archivos\n",
    "\n",
    "\n",
    "Organizamos los archivos según el periodo de la Run 2 y el observable que miden para tener los paths clasificados."
   ]
  },
  {
   "cell_type": "code",
   "execution_count": 2,
   "metadata": {},
   "outputs": [
    {
     "data": {
      "text/html": [
       "<style type=\"text/css\">\n",
       "#T_e9851 th {\n",
       "  text-align: center;\n",
       "}\n",
       "#T_e9851_row0_col0, #T_e9851_row0_col1, #T_e9851_row0_col2, #T_e9851_row0_col3, #T_e9851_row1_col0, #T_e9851_row1_col1, #T_e9851_row1_col2, #T_e9851_row1_col3, #T_e9851_row2_col0, #T_e9851_row2_col1, #T_e9851_row2_col2, #T_e9851_row2_col3 {\n",
       "  text-align: center;\n",
       "  float_format: <built-in method format of str object at 0x000002284ED76570>;\n",
       "}\n",
       "</style>\n",
       "<table id=\"T_e9851\">\n",
       "  <thead>\n",
       "    <tr>\n",
       "      <th class=\"blank level0\" >&nbsp;</th>\n",
       "      <th id=\"T_e9851_level0_col0\" class=\"col_heading level0 col0\" >chi2</th>\n",
       "      <th id=\"T_e9851_level0_col1\" class=\"col_heading level0 col1\" >eta</th>\n",
       "      <th id=\"T_e9851_level0_col2\" class=\"col_heading level0 col2\" >phi</th>\n",
       "      <th id=\"T_e9851_level0_col3\" class=\"col_heading level0 col3\" >pt</th>\n",
       "    </tr>\n",
       "  </thead>\n",
       "  <tbody>\n",
       "    <tr>\n",
       "      <th id=\"T_e9851_level0_row0\" class=\"row_heading level0 row0\" >A</th>\n",
       "      <td id=\"T_e9851_row0_col0\" class=\"data row0 col0\" >GlbMuon_Glb_chi2OverDf_MuonCert_Labeled_UL2018A_Reduced</td>\n",
       "      <td id=\"T_e9851_row0_col1\" class=\"data row0 col1\" >GlbMuon_Glb_eta_MuonCert_Labeled_UL2018A_Reduced</td>\n",
       "      <td id=\"T_e9851_row0_col2\" class=\"data row0 col2\" >GlbMuon_Glb_phi_MuonCert_Labeled_UL2018A_Reduced</td>\n",
       "      <td id=\"T_e9851_row0_col3\" class=\"data row0 col3\" >GlbMuon_Glb_pt_MuonCert_Labeled_UL2018A_Reduced</td>\n",
       "    </tr>\n",
       "    <tr>\n",
       "      <th id=\"T_e9851_level0_row1\" class=\"row_heading level0 row1\" >B</th>\n",
       "      <td id=\"T_e9851_row1_col0\" class=\"data row1 col0\" >GlbMuon_Glb_chi2OverDf_MuonCert_Labeled_UL2018B_Reduced</td>\n",
       "      <td id=\"T_e9851_row1_col1\" class=\"data row1 col1\" >GlbMuon_Glb_eta_MuonCert_Labeled_UL2018B_Reduced</td>\n",
       "      <td id=\"T_e9851_row1_col2\" class=\"data row1 col2\" >GlbMuon_Glb_phi_MuonCert_Labeled_UL2018B_Reduced</td>\n",
       "      <td id=\"T_e9851_row1_col3\" class=\"data row1 col3\" >GlbMuon_Glb_pt_MuonCert_Labeled_UL2018B_Reduced</td>\n",
       "    </tr>\n",
       "    <tr>\n",
       "      <th id=\"T_e9851_level0_row2\" class=\"row_heading level0 row2\" >C</th>\n",
       "      <td id=\"T_e9851_row2_col0\" class=\"data row2 col0\" >GlbMuon_Glb_chi2OverDf_MuonCert_Labeled_UL2018C_Reduced</td>\n",
       "      <td id=\"T_e9851_row2_col1\" class=\"data row2 col1\" >GlbMuon_Glb_eta_MuonCert_Labeled_UL2018C_Reduced</td>\n",
       "      <td id=\"T_e9851_row2_col2\" class=\"data row2 col2\" >GlbMuon_Glb_phi_MuonCert_Labeled_UL2018C_Reduced</td>\n",
       "      <td id=\"T_e9851_row2_col3\" class=\"data row2 col3\" >GlbMuon_Glb_pt_MuonCert_Labeled_UL2018C_Reduced</td>\n",
       "    </tr>\n",
       "  </tbody>\n",
       "</table>\n"
      ],
      "text/plain": [
       "<IPython.core.display.HTML object>"
      ]
     },
     "metadata": {},
     "output_type": "display_data"
    }
   ],
   "source": [
    "names = np.array([f.split('.')[0] for f in os.listdir(f'{parentdir}/data/csv') if os.path.isfile(os.path.join(f'{parentdir}/data/csv', f))])\n",
    "\n",
    "cols =['chi2','eta','phi','pt']\n",
    "inds = ['A','B','C','D']\n",
    "\n",
    "names_df  =pd.DataFrame(names.reshape(4,4).T, index=inds,columns=cols)\n",
    "df_pprint(names_df,head=-1)"
   ]
  },
  {
   "cell_type": "markdown",
   "metadata": {},
   "source": [
    "### Selección del dataset\n",
    "Escogemos un observable para probar."
   ]
  },
  {
   "cell_type": "code",
   "execution_count": 3,
   "metadata": {},
   "outputs": [],
   "source": [
    "observable = 'eta'\n",
    "file = pd.read_csv(f'{parentdir}/data/csv/'+names_df.at['A',observable]+'.csv') # Leemos el archivo desde el path de data.\n",
    "\n",
    "file['histo'] = file['histo'].apply(str2arr) # Convertimos los strings de listas a arrays."
   ]
  },
  {
   "cell_type": "markdown",
   "metadata": {},
   "source": [
    "Vamos a ver la forma que tienen los histogramas \"malos\"."
   ]
  },
  {
   "cell_type": "code",
   "execution_count": 4,
   "metadata": {},
   "outputs": [
    {
     "name": "stderr",
     "output_type": "stream",
     "text": [
      "F:\\Clase\\Universidad\\04 - Cuarto\\TFG\\DQM-DC NMF\\utils\\plot_utils.py:28: RuntimeWarning: invalid value encountered in true_divide\n",
      "  histo = df.at[row,'histo']/df.at[row,'entries']\n"
     ]
    }
   ],
   "source": [
    "bad_file = file[file['labels']==False]\n",
    "for row_i in bad_file.index.values.tolist()[:5]:\n",
    "    plot_df2hist(bad_file,row_i,path=parentdir+f'/graphs/test_{observable}')"
   ]
  }
 ],
 "metadata": {
  "interpreter": {
   "hash": "42adc7b996e598d61f7e7d748077879840ba5f4b1aced6afab64f3aa80ef21e8"
  },
  "kernelspec": {
   "display_name": "Python 3.8.13 ('DQM-DC_NMF')",
   "language": "python",
   "name": "python3"
  },
  "language_info": {
   "codemirror_mode": {
    "name": "ipython",
    "version": 3
   },
   "file_extension": ".py",
   "mimetype": "text/x-python",
   "name": "python",
   "nbconvert_exporter": "python",
   "pygments_lexer": "ipython3",
   "version": "3.8.13"
  },
  "orig_nbformat": 4
 },
 "nbformat": 4,
 "nbformat_minor": 2
}
