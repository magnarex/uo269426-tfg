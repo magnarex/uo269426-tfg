{
 "cells": [
  {
   "cell_type": "markdown",
   "metadata": {},
   "source": [
    "# Prueba de representación"
   ]
  },
  {
   "cell_type": "markdown",
   "metadata": {},
   "source": [
    "## Paquetes"
   ]
  },
  {
   "cell_type": "code",
   "execution_count": 11,
   "metadata": {},
   "outputs": [
    {
     "name": "stdout",
     "output_type": "stream",
     "text": [
      "[{3291413173.py:52} INFO - \n",
      "\n",
      "\n",
      "Run at 10-53-02\n"
     ]
    }
   ],
   "source": [
    "import numpy as np\n",
    "import re\n",
    "import pandas as pd\n",
    "from importlib import reload\n",
    "import os\n",
    "import sys\n",
    "import inspect\n",
    "\n",
    "parentdir = r'F:\\Clase\\Universidad\\04 - Cuarto\\TFG\\DQM-DC NMF'\n",
    "\n",
    "sys.path.append(parentdir)\n",
    "\n",
    "\n",
    "import utils.df_utils as df_utils\n",
    "import utils.plot_utils as plot_utils\n",
    "\n",
    "pd.set_option('colheader_justify', 'center')\n",
    "\n",
    "import functools\n",
    "\n",
    "import matplotlib.pyplot as plt\n",
    "# %matplotlib qt\n",
    "plt.rcParams['figure.dpi'] = 300\n",
    "plt.rcParams[\"figure.figsize\"] = (3,2)\n",
    "plt.rcParams.update({'font.size': 6})\n",
    "\n",
    "import datetime\n",
    "import logging\n",
    "timestamp = datetime.datetime.utcnow().strftime('%Y%m%d')\n",
    "filename=f'{parentdir}/tmp/read_data_{timestamp}.log'\n",
    "formatter = logging.Formatter('[%(asctime)s] %(name)s {%(filename)s:%(lineno)d} %(levelname)s - %(message)s')\n",
    "\n",
    "file_handler = logging.FileHandler(filename=filename, mode='a+')\n",
    "file_handler.setLevel(logging.DEBUG)\n",
    "file_handler.setFormatter(formatter)\n",
    "\n",
    "stream_handler = logging.StreamHandler(sys.stdout)\n",
    "stream_handler.setLevel(logging.INFO)\n",
    "\n",
    "# The handlers have to be at a root level since they are the final output\n",
    "logging.basicConfig(\n",
    "    level=logging.DEBUG, \n",
    "    format='[{%(filename)s:%(lineno)d} %(levelname)s - %(message)s',\n",
    "    handlers=[\n",
    "        file_handler,\n",
    "        stream_handler\n",
    "    ]\n",
    ")\n",
    "\n",
    "logging.info(f'\\n\\n\\nRun at {datetime.datetime.utcnow().strftime(\"%H-%M-%S\")}')"
   ]
  },
  {
   "cell_type": "markdown",
   "metadata": {},
   "source": [
    "## Código"
   ]
  },
  {
   "cell_type": "markdown",
   "metadata": {},
   "source": [
    "### Lectura del dataset"
   ]
  },
  {
   "cell_type": "markdown",
   "metadata": {},
   "source": [
    "Creamos una tabla de archivos."
   ]
  },
  {
   "cell_type": "code",
   "execution_count": 12,
   "metadata": {},
   "outputs": [
    {
     "data": {
      "text/html": [
       "<style type=\"text/css\">\n",
       "#T_e475e th {\n",
       "  text-align: center;\n",
       "}\n",
       "#T_e475e_row0_col0, #T_e475e_row0_col1, #T_e475e_row0_col2, #T_e475e_row0_col3, #T_e475e_row1_col0, #T_e475e_row1_col1, #T_e475e_row1_col2, #T_e475e_row1_col3, #T_e475e_row2_col0, #T_e475e_row2_col1, #T_e475e_row2_col2, #T_e475e_row2_col3 {\n",
       "  text-align: center;\n",
       "  float_format: <built-in method format of str object at 0x0000024297E4C7B0>;\n",
       "}\n",
       "</style>\n",
       "<table id=\"T_e475e\">\n",
       "  <thead>\n",
       "    <tr>\n",
       "      <th class=\"blank level0\" >&nbsp;</th>\n",
       "      <th id=\"T_e475e_level0_col0\" class=\"col_heading level0 col0\" >chi2</th>\n",
       "      <th id=\"T_e475e_level0_col1\" class=\"col_heading level0 col1\" >eta</th>\n",
       "      <th id=\"T_e475e_level0_col2\" class=\"col_heading level0 col2\" >phi</th>\n",
       "      <th id=\"T_e475e_level0_col3\" class=\"col_heading level0 col3\" >pt</th>\n",
       "    </tr>\n",
       "  </thead>\n",
       "  <tbody>\n",
       "    <tr>\n",
       "      <th id=\"T_e475e_level0_row0\" class=\"row_heading level0 row0\" >A</th>\n",
       "      <td id=\"T_e475e_row0_col0\" class=\"data row0 col0\" >GlbMuon_Glb_chi2OverDf_MuonCert_Labeled_UL2018A_Reduced</td>\n",
       "      <td id=\"T_e475e_row0_col1\" class=\"data row0 col1\" >GlbMuon_Glb_eta_MuonCert_Labeled_UL2018A_Reduced</td>\n",
       "      <td id=\"T_e475e_row0_col2\" class=\"data row0 col2\" >GlbMuon_Glb_phi_MuonCert_Labeled_UL2018A_Reduced</td>\n",
       "      <td id=\"T_e475e_row0_col3\" class=\"data row0 col3\" >GlbMuon_Glb_pt_MuonCert_Labeled_UL2018A_Reduced</td>\n",
       "    </tr>\n",
       "    <tr>\n",
       "      <th id=\"T_e475e_level0_row1\" class=\"row_heading level0 row1\" >B</th>\n",
       "      <td id=\"T_e475e_row1_col0\" class=\"data row1 col0\" >GlbMuon_Glb_chi2OverDf_MuonCert_Labeled_UL2018B_Reduced</td>\n",
       "      <td id=\"T_e475e_row1_col1\" class=\"data row1 col1\" >GlbMuon_Glb_eta_MuonCert_Labeled_UL2018B_Reduced</td>\n",
       "      <td id=\"T_e475e_row1_col2\" class=\"data row1 col2\" >GlbMuon_Glb_phi_MuonCert_Labeled_UL2018B_Reduced</td>\n",
       "      <td id=\"T_e475e_row1_col3\" class=\"data row1 col3\" >GlbMuon_Glb_pt_MuonCert_Labeled_UL2018B_Reduced</td>\n",
       "    </tr>\n",
       "    <tr>\n",
       "      <th id=\"T_e475e_level0_row2\" class=\"row_heading level0 row2\" >C</th>\n",
       "      <td id=\"T_e475e_row2_col0\" class=\"data row2 col0\" >GlbMuon_Glb_chi2OverDf_MuonCert_Labeled_UL2018C_Reduced</td>\n",
       "      <td id=\"T_e475e_row2_col1\" class=\"data row2 col1\" >GlbMuon_Glb_eta_MuonCert_Labeled_UL2018C_Reduced</td>\n",
       "      <td id=\"T_e475e_row2_col2\" class=\"data row2 col2\" >GlbMuon_Glb_phi_MuonCert_Labeled_UL2018C_Reduced</td>\n",
       "      <td id=\"T_e475e_row2_col3\" class=\"data row2 col3\" >GlbMuon_Glb_pt_MuonCert_Labeled_UL2018C_Reduced</td>\n",
       "    </tr>\n",
       "  </tbody>\n",
       "</table>\n"
      ],
      "text/plain": [
       "<IPython.core.display.HTML object>"
      ]
     },
     "metadata": {},
     "output_type": "display_data"
    }
   ],
   "source": [
    "names = np.array([f.split('.')[0] for f in os.listdir(f'{parentdir}/data/csv') if os.path.isfile(os.path.join(f'{parentdir}/data/csv', f))])\n",
    "\n",
    "cols =['chi2','eta','phi','pt']\n",
    "inds = ['A','B','C','D']\n",
    "\n",
    "names_df  =pd.DataFrame(names.reshape(4,4).T, index=inds,columns=cols)\n",
    "df_utils.df_pprint(names_df,head=-1)"
   ]
  },
  {
   "cell_type": "markdown",
   "metadata": {},
   "source": [
    "Escogemos un observable en un periodo."
   ]
  },
  {
   "cell_type": "code",
   "execution_count": 13,
   "metadata": {},
   "outputs": [
    {
     "data": {
      "text/html": [
       "<style type=\"text/css\">\n",
       "#T_d5268 th {\n",
       "  text-align: center;\n",
       "}\n",
       "#T_d5268_row0_col0, #T_d5268_row0_col1, #T_d5268_row0_col2, #T_d5268_row0_col3, #T_d5268_row0_col4, #T_d5268_row0_col5, #T_d5268_row0_col6, #T_d5268_row0_col7, #T_d5268_row0_col8, #T_d5268_row1_col0, #T_d5268_row1_col1, #T_d5268_row1_col2, #T_d5268_row1_col3, #T_d5268_row1_col4, #T_d5268_row1_col5, #T_d5268_row1_col6, #T_d5268_row1_col7, #T_d5268_row1_col8, #T_d5268_row2_col0, #T_d5268_row2_col1, #T_d5268_row2_col2, #T_d5268_row2_col3, #T_d5268_row2_col4, #T_d5268_row2_col5, #T_d5268_row2_col6, #T_d5268_row2_col7, #T_d5268_row2_col8 {\n",
       "  text-align: center;\n",
       "  float_format: <built-in method format of str object at 0x0000024297E4C7B0>;\n",
       "}\n",
       "</style>\n",
       "<table id=\"T_d5268\">\n",
       "  <thead>\n",
       "    <tr>\n",
       "      <th class=\"blank level0\" >&nbsp;</th>\n",
       "      <th id=\"T_d5268_level0_col0\" class=\"col_heading level0 col0\" >fromrun</th>\n",
       "      <th id=\"T_d5268_level0_col1\" class=\"col_heading level0 col1\" >fromlumi</th>\n",
       "      <th id=\"T_d5268_level0_col2\" class=\"col_heading level0 col2\" >labels</th>\n",
       "      <th id=\"T_d5268_level0_col3\" class=\"col_heading level0 col3\" >hname</th>\n",
       "      <th id=\"T_d5268_level0_col4\" class=\"col_heading level0 col4\" >histo</th>\n",
       "      <th id=\"T_d5268_level0_col5\" class=\"col_heading level0 col5\" >entries</th>\n",
       "      <th id=\"T_d5268_level0_col6\" class=\"col_heading level0 col6\" >Xbins</th>\n",
       "      <th id=\"T_d5268_level0_col7\" class=\"col_heading level0 col7\" >Xmin</th>\n",
       "      <th id=\"T_d5268_level0_col8\" class=\"col_heading level0 col8\" >Xmax</th>\n",
       "    </tr>\n",
       "  </thead>\n",
       "  <tbody>\n",
       "    <tr>\n",
       "      <th id=\"T_d5268_level0_row0\" class=\"row_heading level0 row0\" >0</th>\n",
       "      <td id=\"T_d5268_row0_col0\" class=\"data row0 col0\" >315489</td>\n",
       "      <td id=\"T_d5268_row0_col1\" class=\"data row0 col1\" >707</td>\n",
       "      <td id=\"T_d5268_row0_col2\" class=\"data row0 col2\" >1</td>\n",
       "      <td id=\"T_d5268_row0_col3\" class=\"data row0 col3\" >GlbMuon_Glb_eta</td>\n",
       "      <td id=\"T_d5268_row0_col4\" class=\"data row0 col4\" >[ 0.  0.  0.  0.  2.  0.  3.  2.  3. 10. 33. 35. 44. 36. 47. 43. 35. 45.\n",
       " 47. 38. 38. 39. 34. 40. 35. 39. 37. 38. 47. 36. 41. 26. 38. 33. 34. 32.\n",
       " 26. 29. 31. 34. 44. 39. 42. 38. 29. 23. 29. 29. 31. 31. 41. 29. 29. 27.\n",
       " 28. 30. 45. 40. 38. 32. 37. 35. 30. 33. 35. 37. 32. 36. 39. 28. 32. 33.\n",
       " 42. 58. 38. 47. 28. 57. 34. 40. 47. 48. 56. 47. 47. 54. 37. 34. 49. 44.\n",
       " 12. 10.  3.  1.  0.  2.  0.  0.  0.  0.]</td>\n",
       "      <td id=\"T_d5268_row0_col5\" class=\"data row0 col5\" >3046.000000</td>\n",
       "      <td id=\"T_d5268_row0_col6\" class=\"data row0 col6\" >100</td>\n",
       "      <td id=\"T_d5268_row0_col7\" class=\"data row0 col7\" >-3.000000</td>\n",
       "      <td id=\"T_d5268_row0_col8\" class=\"data row0 col8\" >3.000000</td>\n",
       "    </tr>\n",
       "    <tr>\n",
       "      <th id=\"T_d5268_level0_row1\" class=\"row_heading level0 row1\" >1</th>\n",
       "      <td id=\"T_d5268_row1_col0\" class=\"data row1 col0\" >316060</td>\n",
       "      <td id=\"T_d5268_row1_col1\" class=\"data row1 col1\" >547</td>\n",
       "      <td id=\"T_d5268_row1_col2\" class=\"data row1 col2\" >1</td>\n",
       "      <td id=\"T_d5268_row1_col3\" class=\"data row1 col3\" >GlbMuon_Glb_eta</td>\n",
       "      <td id=\"T_d5268_row1_col4\" class=\"data row1 col4\" >[ 0.  0.  0.  1.  1.  2.  3.  7.  6. 18. 62. 66. 56. 55. 64. 55. 59. 46.\n",
       " 65. 45. 64. 50. 66. 53. 47. 66. 59. 60. 51. 52. 46. 49. 44. 59. 49. 56.\n",
       " 53. 48. 65. 52. 62. 54. 48. 48. 61. 42. 43. 57. 56. 51. 59. 46. 55. 48.\n",
       " 38. 39. 53. 59. 45. 41. 40. 52. 55. 44. 47. 48. 54. 49. 54. 63. 40. 60.\n",
       " 63. 62. 53. 62. 59. 57. 60. 46. 48. 74. 67. 78. 76. 56. 56. 70. 48. 40.\n",
       " 18.  9.  6.  4.  0.  0.  0.  0.  0.  0.]</td>\n",
       "      <td id=\"T_d5268_row1_col5\" class=\"data row1 col5\" >4423.000000</td>\n",
       "      <td id=\"T_d5268_row1_col6\" class=\"data row1 col6\" >100</td>\n",
       "      <td id=\"T_d5268_row1_col7\" class=\"data row1 col7\" >-3.000000</td>\n",
       "      <td id=\"T_d5268_row1_col8\" class=\"data row1 col8\" >3.000000</td>\n",
       "    </tr>\n",
       "    <tr>\n",
       "      <th id=\"T_d5268_level0_row2\" class=\"row_heading level0 row2\" >2</th>\n",
       "      <td id=\"T_d5268_row2_col0\" class=\"data row2 col0\" >316060</td>\n",
       "      <td id=\"T_d5268_row2_col1\" class=\"data row2 col1\" >548</td>\n",
       "      <td id=\"T_d5268_row2_col2\" class=\"data row2 col2\" >1</td>\n",
       "      <td id=\"T_d5268_row2_col3\" class=\"data row2 col3\" >GlbMuon_Glb_eta</td>\n",
       "      <td id=\"T_d5268_row2_col4\" class=\"data row2 col4\" >[ 0.  0.  0.  1.  1.  2.  4.  2.  6. 22. 44. 63. 66. 48. 69. 67. 42. 50.\n",
       " 39. 59. 57. 52. 66. 54. 60. 50. 54. 61. 61. 64. 55. 51. 56. 55. 51. 34.\n",
       " 61. 52. 55. 46. 64. 52. 48. 60. 55. 47. 40. 54. 80. 60. 53. 73. 52. 49.\n",
       " 50. 54. 62. 62. 55. 48. 67. 58. 65. 52. 59. 55. 47. 52. 47. 54. 57. 54.\n",
       " 52. 54. 64. 57. 65. 68. 52. 67. 50. 76. 73. 73. 63. 67. 55. 75. 62. 50.\n",
       " 22. 14.  6.  6.  4.  2.  0.  0.  0.  0.]</td>\n",
       "      <td id=\"T_d5268_row2_col5\" class=\"data row2 col5\" >4642.000000</td>\n",
       "      <td id=\"T_d5268_row2_col6\" class=\"data row2 col6\" >100</td>\n",
       "      <td id=\"T_d5268_row2_col7\" class=\"data row2 col7\" >-3.000000</td>\n",
       "      <td id=\"T_d5268_row2_col8\" class=\"data row2 col8\" >3.000000</td>\n",
       "    </tr>\n",
       "  </tbody>\n",
       "</table>\n"
      ],
      "text/plain": [
       "<IPython.core.display.HTML object>"
      ]
     },
     "metadata": {},
     "output_type": "display_data"
    }
   ],
   "source": [
    "observable = 'eta'\n",
    "file = pd.read_csv(f'{parentdir}/data/csv/'+names_df.at['A',observable]+'.csv')\n",
    "\n",
    "file['histo'] = file['histo'].apply(df_utils.str2arr)\n",
    "\n",
    "\n",
    "\n",
    "df_utils.df_pprint(file)"
   ]
  },
  {
   "cell_type": "markdown",
   "metadata": {},
   "source": [
    "Guardamos el histograma en una carpeta."
   ]
  },
  {
   "cell_type": "code",
   "execution_count": 20,
   "metadata": {},
   "outputs": [],
   "source": [
    "reload(plot_utils)\n",
    "_= [plot_utils.plot_df2hist(file,row,path=f'{parentdir}/graphs/test_all_{observable}') for row in range(20)]\n"
   ]
  },
  {
   "cell_type": "code",
   "execution_count": 15,
   "metadata": {},
   "outputs": [
    {
     "name": "stdout",
     "output_type": "stream",
     "text": [
      "(array([  643, 51261], dtype=int64), array([0. , 0.5, 1. ]))\n"
     ]
    },
    {
     "name": "stderr",
     "output_type": "stream",
     "text": [
      "<__array_function__ internals>:5: RuntimeWarning: Converting input from bool to <class 'numpy.uint8'> for compatibility.\n"
     ]
    }
   ],
   "source": [
    "print(np.histogram(file['labels'],bins=(0,0.5,1)))"
   ]
  }
 ],
 "metadata": {
  "interpreter": {
   "hash": "42adc7b996e598d61f7e7d748077879840ba5f4b1aced6afab64f3aa80ef21e8"
  },
  "kernelspec": {
   "display_name": "Python 3.8.13 ('DQM-DC_NMF')",
   "language": "python",
   "name": "python3"
  },
  "language_info": {
   "codemirror_mode": {
    "name": "ipython",
    "version": 3
   },
   "file_extension": ".py",
   "mimetype": "text/x-python",
   "name": "python",
   "nbconvert_exporter": "python",
   "pygments_lexer": "ipython3",
   "version": "3.8.13"
  },
  "orig_nbformat": 4
 },
 "nbformat": 4,
 "nbformat_minor": 2
}
